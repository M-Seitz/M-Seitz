{
 "cells": [
  {
   "cell_type": "markdown",
   "metadata": {
    "colab_type": "text",
    "id": "view-in-github"
   },
   "source": [
    "<a href=\"https://colab.research.google.com/github/M-Seitz/M-Seitz/blob/main/Copy_of_6_Loops.ipynb\" target=\"_parent\"><img src=\"https://colab.research.google.com/assets/colab-badge.svg\" alt=\"Open In Colab\"/></a>"
   ]
  },
  {
   "cell_type": "markdown",
   "metadata": {
    "id": "v4j4lv075BBZ"
   },
   "source": [
    "# Loops\n",
    "\n",
    "Loops are an essential element in programming. They allow instructions to be repeated a number of times. They also help to avoid repetition. Let's say you want to display the numbers from 1 to 10. Without the loops, we should write something like this:\n",
    "\n",
    "```python\n",
    "print(1)\n",
    "print(2)\n",
    "print(3)\n",
    "print(4)\n",
    "print(5)\n",
    "print(6)\n",
    "print(7)\n",
    "print(8)\n",
    "print(9)\n",
    "print(10)\n",
    "```\n",
    "\n",
    "We could do copy and paste, but it's not clean and a good developer never **repeats himself**. Be [D.R.Y](https://en.wikipedia.org/wiki/Don%27t_repeat_yourself), think D.R.Y.\n",
    "\n",
    "Let's see here how to do that in Python."
   ]
  },
  {
   "cell_type": "markdown",
   "metadata": {
    "id": "03RGjKiI5BBa"
   },
   "source": [
    "## `While` loops\n",
    "\n",
    "The `while` loop repeats the sequence of actions several times until a given condition is `False` (i.e. while the condition is `True`). The condition is given before the loop body and is checked before each execution of the loop body. As a general rule, the `while` loop is used when it is impossible to determine the exact number of iterations of the loop in advance.\n",
    "\n",
    "The syntax of the `while` loop in the simplest case looks like this:\n",
    "\n",
    "```python\n",
    "while expression:\n",
    "    block of statements\n",
    "```\n",
    "\n",
    "For example, if you want to display the numbers from 1 to 10, you would do the following."
   ]
  },
  {
   "cell_type": "code",
   "execution_count": 1,
   "metadata": {
    "colab": {
     "base_uri": "https://localhost:8080/"
    },
    "id": "Hjxm5YJL5BBb",
    "outputId": "8e09db9c-2d09-46de-c9b9-ec97d5f2d2c8"
   },
   "outputs": [
    {
     "name": "stdout",
     "output_type": "stream",
     "text": [
      "1\n",
      "2\n",
      "3\n",
      "4\n",
      "5\n",
      "6\n",
      "7\n",
      "8\n",
      "9\n",
      "10\n"
     ]
    }
   ],
   "source": [
    "i = 1\n",
    "while i <= 10:\n",
    "    print(i)\n",
    "    i += 1"
   ]
  },
  {
   "cell_type": "markdown",
   "metadata": {
    "id": "OBJS_xX95BBb"
   },
   "source": [
    "In that code you have:\n",
    "- a counter (`i`)\n",
    "- an iteration statement: the condition for the iteration to stop (the counter is lower than `10`)\n",
    "- a loop body: the list of operations that will be performed until the condition is met (print the value of the counter and increment it by 1)\n",
    "\n",
    "What happens here ?\n",
    "- The counter is set to `1`\n",
    "- The code enters the loop and will iterate until the counter is equal to 10\n",
    "- At each iteration\n",
    "    - it prints the current state of the counter\n",
    "    - it adds 1 to the counter\n",
    "\n",
    "By adding 1 at each iteration, the counter will finally reach 10 and the loop can stop.\n",
    "\n",
    "**Exercise:** create a New year countdown (10, 9... 0) through a `while` loop"
   ]
  },
  {
   "cell_type": "code",
   "execution_count": 2,
   "metadata": {
    "colab": {
     "base_uri": "https://localhost:8080/"
    },
    "id": "7FV0Cc6k5BBb",
    "outputId": "e249c82f-4068-4d54-a2f0-c01a1d39c3c5"
   },
   "outputs": [
    {
     "name": "stdout",
     "output_type": "stream",
     "text": [
      "10\n",
      "9\n",
      "8\n",
      "7\n",
      "6\n",
      "5\n",
      "4\n",
      "3\n",
      "2\n",
      "1\n"
     ]
    }
   ],
   "source": [
    "i = 10\n",
    "while i > 0:\n",
    "    print(i)\n",
    "    i -= 1"
   ]
  },
  {
   "cell_type": "markdown",
   "metadata": {
    "id": "mN1nVY4F5BBc"
   },
   "source": [
    "## `For` loops\n",
    "\n",
    "A `for` loop is used for iterating over a sequence (a list, a tuple, a dictionary, a set, or even a string).\n",
    "\n",
    "With the `for` loop we can execute a set of statements, once for each item in a list, tuple, set etc.\n",
    "\n",
    "There is no condition to meet here. Implicitly the condition is: if all the elements of the sequence have been checked, then the loop stops."
   ]
  },
  {
   "cell_type": "code",
   "execution_count": 3,
   "metadata": {
    "id": "HMLUr1Hk5BBc"
   },
   "outputs": [
    {
     "name": "stdout",
     "output_type": "stream",
     "text": [
      "junior developer\n",
      "data scientist\n",
      "cybersecurity\n",
      "devops\n"
     ]
    }
   ],
   "source": [
    "bootcamps = [\"junior developer\", \"data scientist\", \"cybersecurity\", \"devops\"]\n",
    "for bootcamp in bootcamps:  # Works with lists\n",
    "    print(bootcamp)"
   ]
  },
  {
   "cell_type": "code",
   "execution_count": 4,
   "metadata": {
    "id": "a8fVqG-25BBc"
   },
   "outputs": [
    {
     "name": "stdout",
     "output_type": "stream",
     "text": [
      "d\n",
      "i\n",
      "g\n",
      "i\n",
      "t\n",
      "a\n",
      "l\n",
      " \n",
      "s\n",
      "p\n",
      "r\n",
      "i\n",
      "n\n",
      "t\n"
     ]
    }
   ],
   "source": [
    "for letter in \"digital sprint\":  # Works with strings\n",
    "    print(letter)"
   ]
  },
  {
   "cell_type": "markdown",
   "metadata": {
    "id": "MKW06m6s5BBc"
   },
   "source": [
    "**Exercise:** based on your Python knowledge create a list with all persons of your class. Sort the list alphabetically and then print the 5 first elements of the list by using a `for` loop."
   ]
  },
  {
   "cell_type": "code",
   "execution_count": 5,
   "metadata": {
    "colab": {
     "base_uri": "https://localhost:8080/"
    },
    "id": "M_T7DY6j5BBc",
    "outputId": "cc7c830e-adbb-422b-9005-e3297d58f37f"
   },
   "outputs": [
    {
     "name": "stdout",
     "output_type": "stream",
     "text": [
      "['Louise', 'Alemash', 'Vesco', 'Volodymyr', 'Matthias', 'Julien', 'Anthony', 'Nico', 'Zian'] <class 'list'>\n",
      "\n",
      "['Alemash', 'Anthony', 'Julien', 'Louise', 'Matthias', 'Nico', 'Vesco', 'Volodymyr', 'Zian'] <class 'list'>\n",
      "\n",
      "Alemash\n",
      "Anthony\n",
      "Julien\n",
      "Louise\n",
      "Matthias\n"
     ]
    }
   ],
   "source": [
    "AI_sprint_trainees = [\"Louise\", \"Alemash\", \"Vesco\", \"Volodymyr\", \"Matthias\", \"Julien\", \"Anthony\", \"Nico\", \"Zian\"]\n",
    "print(AI_sprint_trainees, type(AI_sprint_trainees)      )\n",
    "print()\n",
    "AI_sprint_trainees.sort()\n",
    "print(AI_sprint_trainees, type(AI_sprint_trainees)      )\n",
    "#print(AI_sprint_trainees.sort(), type(AI_sprint_trainees)      )\n",
    "print()\n",
    "for i in range (5) :\n",
    "    print(AI_sprint_trainees[i])"
   ]
  },
  {
   "cell_type": "markdown",
   "metadata": {
    "id": "s4QX-pY_5BBc"
   },
   "source": [
    "## Range"
   ]
  },
  {
   "cell_type": "markdown",
   "metadata": {
    "id": "kjPk7mmh5BBc"
   },
   "source": [
    "The `range()` function returns a sequence of numbers, starting from 0 by default, and increments by 1 (by default), and ends at a specified number."
   ]
  },
  {
   "cell_type": "code",
   "execution_count": 6,
   "metadata": {
    "colab": {
     "base_uri": "https://localhost:8080/"
    },
    "id": "BAwBoQ545BBc",
    "outputId": "c2a810f2-5738-406b-a5c3-5e5bf8dc2a69"
   },
   "outputs": [
    {
     "name": "stdout",
     "output_type": "stream",
     "text": [
      "0\n",
      "1\n",
      "2\n",
      "3\n",
      "4\n",
      "5\n",
      "6\n",
      "7\n",
      "8\n",
      "9\n"
     ]
    }
   ],
   "source": [
    "for i in range(10):\n",
    "    print(i)"
   ]
  },
  {
   "cell_type": "code",
   "execution_count": 13,
   "metadata": {
    "colab": {
     "base_uri": "https://localhost:8080/"
    },
    "id": "EuY9GgTi5BBc",
    "outputId": "d7478049-c569-4215-fbf2-447f6c6c0135"
   },
   "outputs": [
    {
     "name": "stdout",
     "output_type": "stream",
     "text": [
      "0\n",
      "1\n",
      "2\n",
      "3\n",
      "4\n",
      "5\n",
      "6\n",
      "7\n"
     ]
    }
   ],
   "source": [
    "for i in range(2 ** 3):\n",
    "    print(i)"
   ]
  },
  {
   "cell_type": "markdown",
   "metadata": {
    "id": "uxLsoo4d5BBc"
   },
   "source": [
    "We can specify the starting number."
   ]
  },
  {
   "cell_type": "code",
   "execution_count": 7,
   "metadata": {
    "colab": {
     "base_uri": "https://localhost:8080/"
    },
    "id": "gS7B-aQW5BBd",
    "outputId": "7e9de1b7-e076-475c-d949-ee35a3900062"
   },
   "outputs": [
    {
     "name": "stdout",
     "output_type": "stream",
     "text": [
      "4\n",
      "5\n",
      "6\n",
      "7\n",
      "8\n",
      "9\n"
     ]
    }
   ],
   "source": [
    "for i in range(4, 10):\n",
    "    print(i)"
   ]
  },
  {
   "cell_type": "markdown",
   "metadata": {
    "id": "Nc5S5tmM5BBd"
   },
   "source": [
    "And we can also specify the interval between each."
   ]
  },
  {
   "cell_type": "code",
   "execution_count": 17,
   "metadata": {
    "colab": {
     "base_uri": "https://localhost:8080/"
    },
    "id": "rq91pPtP5BBd",
    "outputId": "bfccecda-1b10-467d-df90-d10124064d81"
   },
   "outputs": [
    {
     "name": "stdout",
     "output_type": "stream",
     "text": [
      "0\n",
      "2\n",
      "4\n",
      "6\n",
      "8\n"
     ]
    }
   ],
   "source": [
    "for i in range(0, 10, 2):\n",
    "    print(i)"
   ]
  },
  {
   "cell_type": "markdown",
   "metadata": {
    "id": "1v-J1yRs5BBd"
   },
   "source": [
    "## Let's practice\n",
    "\n",
    "Create a list of 7 daily temperatures (in Celsius) for a week, e.g., [15, 18, 20, 22, 19, 17, 21]\n",
    "\n",
    "Based on what you discovered today and on some external research, write a Python code for each of those problems **by using loops**:\n",
    "\n",
    "1. Print each temperature on a new line\n",
    "2. Calculate the average temperature of the week\n",
    "3. Find the number of days where the temperature was above the average\n",
    "4. For each temperature, convert it to Fahrenheit using the formula: F = (C * 9/5) + 32. Store the converted temperatures in a new list.\n",
    "5. Find the lowest and the highest temperature of the week\n",
    "6. Create a fake weather prediction for the next week: generate a new list of 7 days with a random temperature between 15 and 25°C (check how to use `random` in Python)\n",
    "7. Print each predicted temperature on a new line and indicate whether it is fresh (-15), pleasant (15-23) or hot (23+)\n",
    "8. Create a countdown for the weekdays: by using `range` find a way to print numbers from 7 to 0\n",
    "\n"
   ]
  },
  {
   "cell_type": "code",
   "execution_count": 103,
   "metadata": {
    "colab": {
     "base_uri": "https://localhost:8080/"
    },
    "id": "0UjhxHv35BBd",
    "outputId": "7121171e-8c36-4e83-d646-3dd51070d59e"
   },
   "outputs": [
    {
     "name": "stdout",
     "output_type": "stream",
     "text": [
      "\n",
      "i =  0\n",
      "daily_temperature =  15\n",
      "daily_fahrenheit_temp. = 59.0 °F\n",
      "average_temperature =  15.0\n",
      "hot_days =  0\n",
      "\n",
      "i =  1\n",
      "daily_temperature =  18\n",
      "daily_fahrenheit_temp. = 64.4 °F\n",
      "average_temperature =  16.5\n",
      "hot_days =  0\n",
      "\n",
      "i =  2\n",
      "daily_temperature =  20\n",
      "daily_fahrenheit_temp. = 68.0 °F\n",
      "average_temperature =  17.67\n",
      "hot_days =  1\n",
      "\n",
      "i =  3\n",
      "daily_temperature =  22\n",
      "daily_fahrenheit_temp. = 71.6 °F\n",
      "average_temperature =  18.75\n",
      "hot_days =  2\n",
      "\n",
      "i =  4\n",
      "daily_temperature =  19\n",
      "daily_fahrenheit_temp. = 66.2 °F\n",
      "average_temperature =  18.8\n",
      "hot_days =  3\n",
      "\n",
      "i =  5\n",
      "daily_temperature =  17\n",
      "daily_fahrenheit_temp. = 62.6 °F\n",
      "average_temperature =  18.5\n",
      "hot_days =  3\n",
      "\n",
      "i =  6\n",
      "daily_temperature =  21\n",
      "daily_fahrenheit_temp. = 69.8 °F\n",
      "average_temperature =  18.86\n",
      "hot_days =  4\n",
      "\n",
      "(sorted) daily_temperatures =  [15, 17, 18, 19, 20, 21, 22]\n",
      "coldest_day =  15\n",
      "hottest_day =  22\n",
      "\n",
      "\n",
      "i =  0\n",
      "forecast_daily_temperature =  24\n",
      "HOT\n",
      "\n",
      "i =  1\n",
      "forecast_daily_temperature =  16\n",
      "pleasant\n",
      "\n",
      "i =  2\n",
      "forecast_daily_temperature =  18\n",
      "pleasant\n",
      "\n",
      "i =  3\n",
      "forecast_daily_temperature =  16\n",
      "pleasant\n",
      "\n",
      "i =  4\n",
      "forecast_daily_temperature =  18\n",
      "pleasant\n",
      "\n",
      "i =  5\n",
      "forecast_daily_temperature =  20\n",
      "pleasant\n",
      "\n",
      "i =  6\n",
      "forecast_daily_temperature =  16\n",
      "pleasant\n",
      "\n",
      "weekdays =   ['Sunday', 'Monday', 'Tuesday', 'Wednesday', 'Thursday', 'Friday', 'Saturday']\n",
      "\n",
      "i =  7\n",
      "Saturday\n",
      "\n",
      "i =  6\n",
      "Friday\n",
      "\n",
      "i =  5\n",
      "Thursday\n",
      "\n",
      "i =  4\n",
      "Wednesday\n",
      "\n",
      "i =  3\n",
      "Tuesday\n",
      "\n",
      "i =  2\n",
      "Monday\n",
      "\n",
      "i =  1\n",
      "Sunday\n",
      "\n",
      "\n"
     ]
    }
   ],
   "source": [
    "import random\n",
    "# Temperatures\n",
    "def C2K(t):\n",
    "    return(t+273.15)\n",
    "def F2K(t):\n",
    "    return(5*(t + 459.67)/9)\n",
    "def K2C(t):\n",
    "    return(t-273.16)\n",
    "def K2F(t):\n",
    "    return((9*t)/5 - 459.67)\n",
    "def FCK2KFC(degree, eingabe, ausgabe):   #name to be improved\n",
    "    if eingabe == \"C\" :\n",
    "        Kelvin = C2K(degree)\n",
    "    elif eingabe == \"F\" :\n",
    "        Kelvin = F2K(degree)\n",
    "    else :\n",
    "        return(\"wrong eingabe\")\n",
    "    if ausgabe == \"K\":\n",
    "        result = Kelvin\n",
    "    elif ausgabe == \"F\":\n",
    "        result = K2F(Kelvin)\n",
    "    elif ausgabe == \"C\":\n",
    "        result = K2C(Kelvin)\n",
    "\n",
    "    return(round(result, 2))\n",
    "#_   return(print(degree,\"°\", eingabe, \"is\" ,round(result, 2),\"°\", ausgabe))\n",
    "#_____________________________________________________________________________________\n",
    "daily_temperatures = [15, 18, 20, 22, 19, 17, 21]\n",
    "n = 7\n",
    "sum_temperature = 0\n",
    "hot_days = 0\n",
    "#\n",
    "for i in range (n):\n",
    "   sum_temperature = ((sum_temperature + daily_temperatures[i]))\n",
    "   average_temperature = round((sum_temperature/(i+1)),2)\n",
    "   daily_fahrenheit_temperatures = FCK2KFC(daily_temperatures[i],\"C\",\"F\")\n",
    "   if daily_temperatures[i] > 18:\n",
    "      hot_days += 1\n",
    "   print()\n",
    "   print(\"i = \", i)\n",
    "   print(\"daily_temperature = \",daily_temperatures[i])\n",
    "   print(\"daily_fahrenheit_temp. =\", daily_fahrenheit_temperatures ,\"°F\")\n",
    "   print(\"average_temperature = \", average_temperature)\n",
    "   print(\"hot_days = \", hot_days)\n",
    "# i +=1\n",
    "#\n",
    "daily_temperatures.sort()\n",
    "coldest_day = (daily_temperatures[0])\n",
    "hottest_day = (daily_temperatures[6])\n",
    "print()\n",
    "print(\"(sorted) daily_temperatures = \",daily_temperatures)\n",
    "print(\"coldest_day = \", coldest_day)\n",
    "print(\"hottest_day = \", hottest_day )\n",
    "print()\n",
    "#\n",
    "forecast_daily_temperatures = []\n",
    "for i in range (n):\n",
    "    forecast_daily_temperatures.append(random.randrange(15, 25))\n",
    "    print()\n",
    "    print(\"i = \", i)\n",
    "    print(\"forecast_daily_temperature = \",forecast_daily_temperatures[i])\n",
    "    if forecast_daily_temperatures[i] < 16:\n",
    "        print(\"FRESH\")\n",
    "    elif forecast_daily_temperatures[i] < 24 :\n",
    "        print(\"pleasant\")\n",
    "    else :\n",
    "        print(\"HOT\")\n",
    "#\n",
    "weekdays = [\"Sunday\", \"Monday\", \"Tuesday\", \"Wednesday\", \"Thursday\", \"Friday\", \"Saturday\"]\n",
    "print()\n",
    "print(\"weekdays =  \", weekdays )\n",
    "for i in range (7, 0, -1):\n",
    "#i = 7\n",
    "#while i > 0:\n",
    "    print()\n",
    "    print(\"i = \", i)\n",
    "    print(weekdays[i-1])\n",
    "#   i -= 1\n",
    "\n",
    "\n",
    "print()\n",
    "\n",
    "print()\n",
    "#_______________________________________________________\n",
    "#"
   ]
  }
 ],
 "metadata": {
  "colab": {
   "include_colab_link": true,
   "provenance": []
  },
  "kernelspec": {
   "display_name": "Python 3 (ipykernel)",
   "language": "python",
   "name": "python3"
  },
  "language_info": {
   "codemirror_mode": {
    "name": "ipython",
    "version": 3
   },
   "file_extension": ".py",
   "mimetype": "text/x-python",
   "name": "python",
   "nbconvert_exporter": "python",
   "pygments_lexer": "ipython3",
   "version": "3.11.5"
  }
 },
 "nbformat": 4,
 "nbformat_minor": 4
}
